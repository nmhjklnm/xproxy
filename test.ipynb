{
 "cells": [
  {
   "cell_type": "markdown",
   "metadata": {},
   "source": [
    "# xproxy"
   ]
  },
  {
   "cell_type": "markdown",
   "metadata": {},
   "source": [
    "## 特性\n",
    "- **可定制**：可以轻松扩展，将不同来源代理共用。\n",
    "- **代理验证**：自动检查和验证代理的使用次数和过期时间。\n",
    "- **自动轮换**：定期刷新和轮换代理，以确保持续供应有效代理。\n",
    "- **线程安全**：使用多线程处理代理轮换，无阻塞主应用程序。\n",
    "- **轮询选择**：支持轮询代理选择，均匀分配负载。\n",
    "## 安装\n",
    "```\n",
    "pip install xproxy\n",
    "```"
   ]
  },
  {
   "cell_type": "markdown",
   "metadata": {},
   "source": [
    "## 示例"
   ]
  },
  {
   "cell_type": "code",
   "execution_count": null,
   "metadata": {},
   "outputs": [],
   "source": [
    "from xproxy.manager import DuoMiProxyManager\n",
    "import requests\n",
    "proxy_manager = DuoMiProxyManager(  # 代理管理器，会主动记录无效过的代理，防止重复使用无效代理 自动维护代理池有效代理数量，\n",
    "    proxy_url='http://api.dmdaili.com/dmgetip.asp?apikey=3be53e22&pwd=4f2799827bfe9c6f0e2a64749cf5f3f6&getnum=50&httptype=1&geshi=2&fenge=1&fengefu=&operate=all',\n",
    "    max_use_count=5,        # 设定单个代理最大使用次数\n",
    "    min_valid_proxies=20,   # 设定代理池至少维持20个有效代理\n",
    "    proxy_expiry_seconds=60,  # 设定单个代理60秒内 或者达到 endtime的时间记录为超时\n",
    "    rotate_seconds=30       # 定时服务，每隔30秒，检查一遍代理池，如果代理池代理少了，就获取代理\n",
    ")\n",
    "proxy = proxy_manager.get_order_proxy()  # proxy_manager.get_random_proxy()\n",
    "response = requests.get(url, headers=headers, proxies={\n",
    "                        \"http\":  str(proxy.url), \"https\": str(proxy.url)}, timeout=60)\n",
    "if response.status_code != 200:\n",
    "    proxy_manager.mark_proxy_invalid(proxy.url)  # 可以主动标记代理为无效\n",
    "    "
   ]
  }
 ],
 "metadata": {
  "kernelspec": {
   "display_name": "base",
   "language": "python",
   "name": "python3"
  },
  "language_info": {
   "name": "python",
   "version": "3.12.2"
  }
 },
 "nbformat": 4,
 "nbformat_minor": 2
}
